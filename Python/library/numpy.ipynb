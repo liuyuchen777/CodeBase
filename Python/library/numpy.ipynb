{
 "metadata": {
  "language_info": {
   "codemirror_mode": {
    "name": "ipython",
    "version": 3
   },
   "file_extension": ".py",
   "mimetype": "text/x-python",
   "name": "python",
   "nbconvert_exporter": "python",
   "pygments_lexer": "ipython3",
   "version": "3.8.5-final"
  },
  "orig_nbformat": 2,
  "kernelspec": {
   "name": "python3",
   "display_name": "Python 3"
  }
 },
 "nbformat": 4,
 "nbformat_minor": 2,
 "cells": [
  {
   "cell_type": "code",
   "execution_count": 4,
   "metadata": {},
   "outputs": [],
   "source": [
    "import numpy as np \n",
    "import matplotlib.pyplot as plt\n",
    "import tensorflow as tf\n",
    "# necessary package for DL is already installed"
   ]
  },
  {
   "cell_type": "code",
   "execution_count": 5,
   "metadata": {},
   "outputs": [
    {
     "output_type": "stream",
     "name": "stdout",
     "text": [
      "[1 2 3]\n"
     ]
    }
   ],
   "source": [
    "# Ndarray Object\n",
    "a = np.array([1, 2, 3])\n",
    "print(a)"
   ]
  },
  {
   "cell_type": "code",
   "execution_count": 10,
   "metadata": {},
   "outputs": [
    {
     "output_type": "stream",
     "name": "stdout",
     "text": [
      "[[1 2]\n [3 4]]\n"
     ]
    }
   ],
   "source": [
    "b = np.array([[1, 2], [3, 4]])\n",
    "print(b)"
   ]
  },
  {
   "cell_type": "code",
   "execution_count": 12,
   "metadata": {},
   "outputs": [
    {
     "output_type": "stream",
     "name": "stdout",
     "text": [
      "[[1 2 3 4 5]]\n"
     ]
    }
   ],
   "source": [
    "c = np.array([1, 2, 3, 4, 5], ndmin = 2)\n",
    "print(c)"
   ]
  },
  {
   "cell_type": "code",
   "execution_count": 14,
   "metadata": {},
   "outputs": [
    {
     "output_type": "stream",
     "name": "stdout",
     "text": [
      "[1.+0.j 2.+0.j 3.+0.j 4.+0.j 5.+0.j]\n"
     ]
    }
   ],
   "source": [
    "d = np.array([1, 2, 3, 4, 5], dtype = complex)\n",
    "print(d)"
   ]
  },
  {
   "cell_type": "code",
   "execution_count": 16,
   "metadata": {},
   "outputs": [
    {
     "output_type": "stream",
     "name": "stdout",
     "text": [
      "int32\nint64\n"
     ]
    }
   ],
   "source": [
    "# type of ndarray\n",
    "dt = np.dtype(np.int32)\n",
    "print(dt)\n",
    "dt = np.dtype(np.int)\n",
    "print(dt)"
   ]
  },
  {
   "cell_type": "code",
   "execution_count": 17,
   "metadata": {},
   "outputs": [
    {
     "output_type": "stream",
     "name": "stdout",
     "text": [
      "[('age', 'i1')]\n"
     ]
    }
   ],
   "source": [
    "# 创建结构化数据类型\n",
    "dt = np.dtype([('age', np.int8)])\n",
    "print(dt)"
   ]
  },
  {
   "cell_type": "code",
   "execution_count": 19,
   "metadata": {},
   "outputs": [
    {
     "output_type": "stream",
     "name": "stdout",
     "text": [
      "[(10,) (20,) (30,)]\n[10 20 30]\n"
     ]
    }
   ],
   "source": [
    "e = np.array([(10, ), (20, ), (30, )], dtype = dt)\n",
    "print(e)\n",
    "print(e['age'])"
   ]
  },
  {
   "cell_type": "code",
   "execution_count": 21,
   "metadata": {},
   "outputs": [
    {
     "output_type": "stream",
     "name": "stdout",
     "text": [
      "1\n2\n"
     ]
    }
   ],
   "source": [
    "# create array\n",
    "a = np.arange(24)\n",
    "print(a.ndim)\n",
    "# adjust size\n",
    "b = a.reshape(3, 8)\n",
    "print(b.ndim)\n",
    "# ndim是矩阵的维度，相当于秩"
   ]
  },
  {
   "cell_type": "code",
   "execution_count": 23,
   "metadata": {},
   "outputs": [
    {
     "output_type": "stream",
     "name": "stdout",
     "text": [
      "(2, 3)\n"
     ]
    }
   ],
   "source": [
    "a = np.array([[1, 2, 3],\n",
    "              [4, 5, 6]])\n",
    "print(a.shape)\n",
    "# 2 rows and 3 columns"
   ]
  },
  {
   "cell_type": "code",
   "execution_count": 26,
   "metadata": {},
   "outputs": [
    {
     "output_type": "stream",
     "name": "stdout",
     "text": [
      "[[1 2]\n [3 4]\n [5 6]]\n[[1 2 3]\n [4 5 6]]\n"
     ]
    }
   ],
   "source": [
    "a.shape = (3, 2)\n",
    "print(a)\n",
    "a = a.reshape(2, 3)\n",
    "print(a)"
   ]
  },
  {
   "cell_type": "code",
   "execution_count": 27,
   "metadata": {},
   "outputs": [
    {
     "output_type": "stream",
     "name": "stdout",
     "text": [
      "1\n8\n"
     ]
    }
   ],
   "source": [
    "# 数组的 dtype 为 int8（一个字节）  \n",
    "x = np.array([1,2,3,4,5], dtype = np.int8)  \n",
    "print (x.itemsize)\n",
    " \n",
    "# 数组的 dtype 现在为 float64（八个字节） \n",
    "y = np.array([1,2,3,4,5], dtype = np.float64)  \n",
    "print (y.itemsize)"
   ]
  },
  {
   "cell_type": "code",
   "execution_count": 52,
   "metadata": {},
   "outputs": [
    {
     "output_type": "stream",
     "name": "stdout",
     "text": [
      "[[0 0]\n [0 0]\n [0 0]]\n[[0. 0.]\n [0. 0.]\n [0. 0.]]\n[[0 0]\n [0 0]\n [0 0]]\n"
     ]
    }
   ],
   "source": [
    "# create array\n",
    "# number is uncertained\n",
    "# both () and [] are ok\n",
    "x = np.empty([3, 2], dtype = int)\n",
    "print(x)\n",
    "y = np.zeros([3, 2]) # default is float\n",
    "print(y)\n",
    "z = np.zeros((3, 2), dtype = int)\n",
    "print(z)"
   ]
  },
  {
   "cell_type": "code",
   "execution_count": 53,
   "metadata": {},
   "outputs": [
    {
     "output_type": "stream",
     "name": "stdout",
     "text": [
      "[1. 1. 1. 1. 1.]\n[[1 1]\n [1 1]]\n"
     ]
    }
   ],
   "source": [
    "x = np.ones(5) \n",
    "print(x)\n",
    "x = np.ones([2,2], dtype = int)\n",
    "print(x)"
   ]
  },
  {
   "cell_type": "code",
   "execution_count": 56,
   "metadata": {},
   "outputs": [
    {
     "output_type": "stream",
     "name": "stdout",
     "text": [
      "[1, 2, 3]\n[1 2 3]\n(1, 2, 3)\n[1 2 3]\n((1, 2, 3), (4, 5, 6))\n[[1 2 3]\n [4 5 6]]\n"
     ]
    }
   ],
   "source": [
    "# covert existing python data type to ndarray\n",
    "x = [1, 2, 3]\n",
    "a = np.asarray(x)\n",
    "print(x)\n",
    "print(a)\n",
    "\n",
    "x = (1, 2, 3)\n",
    "a = np.asarray(x)\n",
    "print(x)\n",
    "print(a)\n",
    "\n",
    "x = ((1, 2, 3), (4, 5, 6))\n",
    "a = np.asarray(x)\n",
    "print(x)\n",
    "print(a)"
   ]
  },
  {
   "cell_type": "code",
   "execution_count": 64,
   "metadata": {},
   "outputs": [
    {
     "output_type": "stream",
     "name": "stdout",
     "text": [
      "[[1 2 3]\n [4 5 6]\n [7 8 9]]\n"
     ]
    }
   ],
   "source": [
    "a = np.array(range(1,10))\n",
    "a = a.reshape(3, 3)\n",
    "print(a)"
   ]
  },
  {
   "cell_type": "code",
   "execution_count": 65,
   "metadata": {},
   "outputs": [
    {
     "output_type": "stream",
     "name": "stdout",
     "text": [
      "[0 1 2 3 4]\n"
     ]
    }
   ],
   "source": [
    "x = np.arange(5)\n",
    "print(x)"
   ]
  },
  {
   "cell_type": "code",
   "execution_count": 68,
   "metadata": {},
   "outputs": [
    {
     "output_type": "stream",
     "name": "stdout",
     "text": [
      "[ 1  2  3  4  5  6  7  8  9 10]\n"
     ]
    }
   ],
   "source": [
    "# numpy linspace\n",
    "a = np.linspace(1, 10, num=10, dtype=int)\n",
    "print(a)"
   ]
  },
  {
   "cell_type": "code",
   "execution_count": 70,
   "metadata": {},
   "outputs": [
    {
     "output_type": "stream",
     "name": "stdout",
     "text": [
      "[1.00000000e+01 1.29154967e+03 1.66810054e+05 2.15443469e+07\n 2.78255940e+09 3.59381366e+11 4.64158883e+13 5.99484250e+15\n 7.74263683e+17 1.00000000e+20]\n"
     ]
    }
   ],
   "source": [
    "# numpy logspace\n",
    "a = np.logspace(1.0, 20.0, num=10)\n",
    "print(a)"
   ]
  },
  {
   "cell_type": "code",
   "execution_count": 71,
   "metadata": {},
   "outputs": [
    {
     "output_type": "stream",
     "name": "stdout",
     "text": [
      "我们的数组是：\n[[ 0  1  2]\n [ 3  4  5]\n [ 6  7  8]\n [ 9 10 11]]\n\n\n这个数组的四个角元素是：\n[[ 0  2]\n [ 9 11]]\n"
     ]
    }
   ],
   "source": [
    "# ndarray advance \n",
    "x = np.array([[  0,  1,  2],[  3,  4,  5],[  6,  7,  8],[  9,  10,  11]])  \n",
    "print ('我们的数组是：' )\n",
    "print (x)\n",
    "print ('\\n')\n",
    "rows = np.array([[0,0],[3,3]]) \n",
    "cols = np.array([[0,2],[0,2]]) \n",
    "y = x[rows,cols]  \n",
    "print  ('这个数组的四个角元素是：')\n",
    "print (y)"
   ]
  },
  {
   "cell_type": "code",
   "execution_count": 79,
   "metadata": {},
   "outputs": [
    {
     "output_type": "stream",
     "name": "stdout",
     "text": [
      "[[1 2 3]\n [4 5 6]\n [7 8 9]]\n[2 5]\n"
     ]
    }
   ],
   "source": [
    "a = np.array([[1, 2, 3],\n",
    "              [4, 5, 6],\n",
    "              [7, 8, 9]])\n",
    "print(a)\n",
    "print(a[0:2, 1])"
   ]
  },
  {
   "cell_type": "code",
   "execution_count": 80,
   "metadata": {},
   "outputs": [
    {
     "output_type": "stream",
     "name": "stdout",
     "text": [
      "[[ 1  2  3]\n [11 12 13]\n [21 22 23]\n [31 32 33]]\n"
     ]
    }
   ],
   "source": [
    "# broadcast\n",
    "a = np.array([[ 0, 0, 0],\n",
    "           [10,10,10],\n",
    "           [20,20,20],\n",
    "           [30,30,30]])\n",
    "b = np.array([1,2,3])\n",
    "print(a + b)"
   ]
  },
  {
   "cell_type": "code",
   "execution_count": 81,
   "metadata": {},
   "outputs": [
    {
     "output_type": "stream",
     "name": "stdout",
     "text": [
      "[[ 1  2  3]\n [11 12 13]\n [21 22 23]\n [31 32 33]]\n"
     ]
    }
   ],
   "source": [
    "a = np.array([[ 0, 0, 0],\n",
    "           [10,10,10],\n",
    "           [20,20,20],\n",
    "           [30,30,30]])\n",
    "b = np.array([1,2,3])\n",
    "bb = np.tile(b, (4, 1))  # 重复 b 的各个维度\n",
    "print(a + bb)"
   ]
  },
  {
   "cell_type": "code",
   "execution_count": 82,
   "metadata": {},
   "outputs": [
    {
     "output_type": "stream",
     "name": "stdout",
     "text": [
      "[[ 0  1  2  3]\n [ 4  5  6  7]\n [ 8  9 10 11]]\n[[ 0  4  8]\n [ 1  5  9]\n [ 2  6 10]\n [ 3  7 11]]\n"
     ]
    }
   ],
   "source": [
    "a = np.arange(12).reshape(3,4)\n",
    "\n",
    "print(a)\n",
    "\n",
    "print(a.T)"
   ]
  },
  {
   "cell_type": "code",
   "execution_count": 90,
   "metadata": {},
   "outputs": [
    {
     "output_type": "stream",
     "name": "stdout",
     "text": [
      "[[6.95332964e-310 0.00000000e+000]\n [0.00000000e+000 2.12199579e-313]]\n"
     ]
    }
   ],
   "source": [
    "import numpy.matlib \n",
    "import numpy as np\n",
    " \n",
    "print (np.matlib.empty((2,2)))"
   ]
  },
  {
   "cell_type": "code",
   "execution_count": 107,
   "metadata": {},
   "outputs": [
    {
     "output_type": "stream",
     "name": "stdout",
     "text": [
      "[[-0.93274021  0.15896053 -1.15530272]\n [ 1.00482968  0.79221666  0.13878599]\n [-0.15039098 -0.92860157  0.28437963]]\n[[0.52826512 0.19074181 0.18489389]\n [0.9422412  0.11325064 0.73185146]\n [0.95177537 0.02339372 0.13697869]]\n0.5000033679584325\n0.0008764924526800507\n"
     ]
    }
   ],
   "source": [
    "# randn return Gaussian ditribution\n",
    "a = np.random.randn(9).reshape(3, 3)\n",
    "print(a)\n",
    "# rand return uniform distribution\n",
    "b = np.random.rand(9).reshape(3, 3)\n",
    "print(b)\n",
    "\n",
    "# test validity\n",
    "c = np.random.rand(1000000).sum()\n",
    "print(c / 1000000)\n",
    "d = np.random.randn(1000000).sum()\n",
    "print(d / 1000000)"
   ]
  },
  {
   "cell_type": "code",
   "execution_count": 110,
   "metadata": {},
   "outputs": [
    {
     "output_type": "stream",
     "name": "stdout",
     "text": [
      "[[1 2 3]\n [4 5 6]\n [7 8 9]]\n[[1 2 3]\n [4 5 6]\n [7 8 9]]\n[[ 14  32  50]\n [ 32  77 122]\n [ 50 122 194]]\n"
     ]
    }
   ],
   "source": [
    "a = np.arange(1, 10).reshape(3, 3)\n",
    "b = np.arange(1, 10).reshape(3, 3)\n",
    "print(a)\n",
    "print(b)\n",
    "print(np.dot(a, b.T))"
   ]
  },
  {
   "cell_type": "code",
   "execution_count": 111,
   "metadata": {},
   "outputs": [
    {
     "output_type": "stream",
     "name": "stdout",
     "text": [
      "数组 a：\n[[1 2]\n [3 4]]\n数组 b：\n[[11 12]\n [13 14]]\n内积：\n[[35 41]\n [81 95]]\n"
     ]
    }
   ],
   "source": [
    "a = np.array([[1,2], [3,4]]) \n",
    "print ('数组 a：')\n",
    "print (a)\n",
    "b = np.array([[11, 12], [13, 14]]) \n",
    "print ('数组 b：')\n",
    "print (b)\n",
    " \n",
    "print ('内积：')\n",
    "print (np.inner(a,b))"
   ]
  }
 ]
}